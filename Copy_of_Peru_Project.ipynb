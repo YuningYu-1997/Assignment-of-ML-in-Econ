{
  "nbformat": 4,
  "nbformat_minor": 0,
  "metadata": {
    "colab": {
      "name": "Copy_of_Peru_Project.ipynb",
      "provenance": [],
      "collapsed_sections": []
    },
    "kernelspec": {
      "display_name": "Python 3",
      "language": "python",
      "name": "python3"
    },
    "language_info": {
      "codemirror_mode": {
        "name": "ipython",
        "version": 3
      },
      "file_extension": ".py",
      "mimetype": "text/x-python",
      "name": "python",
      "nbconvert_exporter": "python",
      "pygments_lexer": "ipython3",
      "version": "3.8.3"
    }
  },
  "cells": [
    {
      "cell_type": "code",
      "metadata": {
        "id": "xzleRfPvGvl9"
      },
      "source": [
        "# Import\n",
        "import pandas as pd\n",
        "import numpy as np\n",
        "import seaborn as sns\n",
        "import pydot\n",
        "from IPython.display import Image\n",
        "from six import StringIO  \n",
        "\n",
        "from sklearn.model_selection import train_test_split, cross_val_score\n",
        "from sklearn.tree import DecisionTreeRegressor, DecisionTreeClassifier, plot_tree\n",
        "from sklearn.ensemble import BaggingClassifier, RandomForestClassifier, BaggingRegressor, RandomForestRegressor, GradientBoostingRegressor, GradientBoostingClassifier\n",
        "from sklearn.metrics import mean_squared_error,confusion_matrix, classification_report\n",
        "from sklearn.model_selection import train_test_split, KFold, cross_val_score\n",
        "from sklearn.metrics import confusion_matrix, mean_squared_error\n",
        "from sklearn import linear_model,metrics\n",
        "from sklearn.model_selection import GridSearchCV\n",
        "from sklearn.model_selection import RepeatedKFold\n",
        "from sklearn.linear_model import Lasso\n",
        "from numpy import arange\n",
        "\n",
        "# Import matplotlib for graphs\n",
        "import matplotlib.pyplot as plt\n",
        "from mpl_toolkits.mplot3d import axes3d\n",
        "\n",
        "# Import Drive API and authenticate.\n",
        "#from google.colab import drive\n",
        "\n",
        "# Set global parameters\n",
        "%matplotlib inline\n",
        "plt.style.use('seaborn-white')\n",
        "plt.rcParams['lines.linewidth'] = 3\n",
        "plt.rcParams['figure.figsize'] = (12,7)\n",
        "plt.rcParams['figure.titlesize'] = 20\n",
        "plt.rcParams['axes.titlesize'] = 18\n",
        "plt.rcParams['axes.labelsize'] = 14\n",
        "plt.rcParams['legend.fontsize'] = 14"
      ],
      "execution_count": null,
      "outputs": []
    },
    {
      "cell_type": "markdown",
      "metadata": {
        "id": "9a1005jLGvl9"
      },
      "source": [
        "# Data Import"
      ]
    },
    {
      "cell_type": "code",
      "metadata": {
        "id": "Uz8AmQUoGvl9"
      },
      "source": [
        "file = pd.read_csv('peru_matlab_export_full.csv')\n",
        "train_set = file.loc[file['training']==1]\n",
        "test_set = file.loc[file['training']==0]"
      ],
      "execution_count": null,
      "outputs": []
    },
    {
      "cell_type": "code",
      "metadata": {
        "colab": {
          "base_uri": "https://localhost:8080/",
          "height": 253
        },
        "id": "mPSujLPTYViS",
        "outputId": "14924e9e-a98e-4c4e-bf8d-b793d751e599"
      },
      "source": [
        "train_set.head()"
      ],
      "execution_count": null,
      "outputs": [
        {
          "data": {
            "text/html": [
              "<div>\n",
              "<style scoped>\n",
              "    .dataframe tbody tr th:only-of-type {\n",
              "        vertical-align: middle;\n",
              "    }\n",
              "\n",
              "    .dataframe tbody tr th {\n",
              "        vertical-align: top;\n",
              "    }\n",
              "\n",
              "    .dataframe thead th {\n",
              "        text-align: right;\n",
              "    }\n",
              "</style>\n",
              "<table border=\"1\" class=\"dataframe\">\n",
              "  <thead>\n",
              "    <tr style=\"text-align: right;\">\n",
              "      <th></th>\n",
              "      <th>lnpercapitaconsumption</th>\n",
              "      <th>d_fuel_other</th>\n",
              "      <th>d_fuel_wood</th>\n",
              "      <th>d_fuel_coal</th>\n",
              "      <th>d_fuel_kerosene</th>\n",
              "      <th>d_fuel_gas</th>\n",
              "      <th>d_fuel_electric</th>\n",
              "      <th>d_fuel_none</th>\n",
              "      <th>d_water_other</th>\n",
              "      <th>d_water_river</th>\n",
              "      <th>...</th>\n",
              "      <th>d_lux_4</th>\n",
              "      <th>d_lux_5</th>\n",
              "      <th>training</th>\n",
              "      <th>percapitaconsumption</th>\n",
              "      <th>poor</th>\n",
              "      <th>h_hhsize</th>\n",
              "      <th>id_for_matlab</th>\n",
              "      <th>hhid</th>\n",
              "      <th>lncaphat_OLS</th>\n",
              "      <th>percapitahat_OLS</th>\n",
              "    </tr>\n",
              "  </thead>\n",
              "  <tbody>\n",
              "    <tr>\n",
              "      <th>23152</th>\n",
              "      <td>5.304770</td>\n",
              "      <td>0</td>\n",
              "      <td>1</td>\n",
              "      <td>0</td>\n",
              "      <td>0</td>\n",
              "      <td>0</td>\n",
              "      <td>0</td>\n",
              "      <td>0</td>\n",
              "      <td>0</td>\n",
              "      <td>0</td>\n",
              "      <td>...</td>\n",
              "      <td>0</td>\n",
              "      <td>0</td>\n",
              "      <td>1</td>\n",
              "      <td>201.2948</td>\n",
              "      <td>1</td>\n",
              "      <td>2</td>\n",
              "      <td>23153</td>\n",
              "      <td>278906011</td>\n",
              "      <td>5.756313</td>\n",
              "      <td>443.7744</td>\n",
              "    </tr>\n",
              "    <tr>\n",
              "      <th>23153</th>\n",
              "      <td>7.179197</td>\n",
              "      <td>0</td>\n",
              "      <td>0</td>\n",
              "      <td>0</td>\n",
              "      <td>0</td>\n",
              "      <td>1</td>\n",
              "      <td>0</td>\n",
              "      <td>0</td>\n",
              "      <td>0</td>\n",
              "      <td>0</td>\n",
              "      <td>...</td>\n",
              "      <td>1</td>\n",
              "      <td>0</td>\n",
              "      <td>1</td>\n",
              "      <td>1311.8550</td>\n",
              "      <td>0</td>\n",
              "      <td>3</td>\n",
              "      <td>23154</td>\n",
              "      <td>42105011</td>\n",
              "      <td>6.600141</td>\n",
              "      <td>814.9922</td>\n",
              "    </tr>\n",
              "    <tr>\n",
              "      <th>23154</th>\n",
              "      <td>5.546008</td>\n",
              "      <td>0</td>\n",
              "      <td>1</td>\n",
              "      <td>0</td>\n",
              "      <td>0</td>\n",
              "      <td>0</td>\n",
              "      <td>0</td>\n",
              "      <td>0</td>\n",
              "      <td>0</td>\n",
              "      <td>0</td>\n",
              "      <td>...</td>\n",
              "      <td>0</td>\n",
              "      <td>0</td>\n",
              "      <td>1</td>\n",
              "      <td>256.2126</td>\n",
              "      <td>0</td>\n",
              "      <td>2</td>\n",
              "      <td>23155</td>\n",
              "      <td>133206411</td>\n",
              "      <td>5.270788</td>\n",
              "      <td>202.6347</td>\n",
              "    </tr>\n",
              "    <tr>\n",
              "      <th>23155</th>\n",
              "      <td>5.321395</td>\n",
              "      <td>0</td>\n",
              "      <td>1</td>\n",
              "      <td>0</td>\n",
              "      <td>0</td>\n",
              "      <td>0</td>\n",
              "      <td>0</td>\n",
              "      <td>0</td>\n",
              "      <td>0</td>\n",
              "      <td>1</td>\n",
              "      <td>...</td>\n",
              "      <td>0</td>\n",
              "      <td>0</td>\n",
              "      <td>1</td>\n",
              "      <td>204.6692</td>\n",
              "      <td>1</td>\n",
              "      <td>7</td>\n",
              "      <td>23156</td>\n",
              "      <td>162703311</td>\n",
              "      <td>5.130516</td>\n",
              "      <td>127.6580</td>\n",
              "    </tr>\n",
              "    <tr>\n",
              "      <th>23156</th>\n",
              "      <td>5.347988</td>\n",
              "      <td>1</td>\n",
              "      <td>0</td>\n",
              "      <td>0</td>\n",
              "      <td>0</td>\n",
              "      <td>0</td>\n",
              "      <td>0</td>\n",
              "      <td>0</td>\n",
              "      <td>0</td>\n",
              "      <td>0</td>\n",
              "      <td>...</td>\n",
              "      <td>0</td>\n",
              "      <td>0</td>\n",
              "      <td>1</td>\n",
              "      <td>210.1850</td>\n",
              "      <td>0</td>\n",
              "      <td>4</td>\n",
              "      <td>23157</td>\n",
              "      <td>85709411</td>\n",
              "      <td>5.013036</td>\n",
              "      <td>143.4782</td>\n",
              "    </tr>\n",
              "  </tbody>\n",
              "</table>\n",
              "<p>5 rows × 81 columns</p>\n",
              "</div>"
            ],
            "text/plain": [
              "       lnpercapitaconsumption  d_fuel_other  d_fuel_wood  d_fuel_coal  \\\n",
              "23152                5.304770             0            1            0   \n",
              "23153                7.179197             0            0            0   \n",
              "23154                5.546008             0            1            0   \n",
              "23155                5.321395             0            1            0   \n",
              "23156                5.347988             1            0            0   \n",
              "\n",
              "       d_fuel_kerosene  d_fuel_gas  d_fuel_electric  d_fuel_none  \\\n",
              "23152                0           0                0            0   \n",
              "23153                0           1                0            0   \n",
              "23154                0           0                0            0   \n",
              "23155                0           0                0            0   \n",
              "23156                0           0                0            0   \n",
              "\n",
              "       d_water_other  d_water_river  ...  d_lux_4  d_lux_5  training  \\\n",
              "23152              0              0  ...        0        0         1   \n",
              "23153              0              0  ...        1        0         1   \n",
              "23154              0              0  ...        0        0         1   \n",
              "23155              0              1  ...        0        0         1   \n",
              "23156              0              0  ...        0        0         1   \n",
              "\n",
              "       percapitaconsumption  poor  h_hhsize  id_for_matlab       hhid  \\\n",
              "23152              201.2948     1         2          23153  278906011   \n",
              "23153             1311.8550     0         3          23154   42105011   \n",
              "23154              256.2126     0         2          23155  133206411   \n",
              "23155              204.6692     1         7          23156  162703311   \n",
              "23156              210.1850     0         4          23157   85709411   \n",
              "\n",
              "       lncaphat_OLS  percapitahat_OLS  \n",
              "23152      5.756313          443.7744  \n",
              "23153      6.600141          814.9922  \n",
              "23154      5.270788          202.6347  \n",
              "23155      5.130516          127.6580  \n",
              "23156      5.013036          143.4782  \n",
              "\n",
              "[5 rows x 81 columns]"
            ]
          },
          "execution_count": 3,
          "metadata": {},
          "output_type": "execute_result"
        }
      ]
    },
    {
      "cell_type": "code",
      "metadata": {
        "colab": {
          "base_uri": "https://localhost:8080/",
          "height": 253
        },
        "id": "xhDnscrXYcsB",
        "outputId": "2e686431-995a-4023-e4e2-dd12afe33b61"
      },
      "source": [
        "test_set.head()"
      ],
      "execution_count": null,
      "outputs": [
        {
          "data": {
            "text/html": [
              "<div>\n",
              "<style scoped>\n",
              "    .dataframe tbody tr th:only-of-type {\n",
              "        vertical-align: middle;\n",
              "    }\n",
              "\n",
              "    .dataframe tbody tr th {\n",
              "        vertical-align: top;\n",
              "    }\n",
              "\n",
              "    .dataframe thead th {\n",
              "        text-align: right;\n",
              "    }\n",
              "</style>\n",
              "<table border=\"1\" class=\"dataframe\">\n",
              "  <thead>\n",
              "    <tr style=\"text-align: right;\">\n",
              "      <th></th>\n",
              "      <th>lnpercapitaconsumption</th>\n",
              "      <th>d_fuel_other</th>\n",
              "      <th>d_fuel_wood</th>\n",
              "      <th>d_fuel_coal</th>\n",
              "      <th>d_fuel_kerosene</th>\n",
              "      <th>d_fuel_gas</th>\n",
              "      <th>d_fuel_electric</th>\n",
              "      <th>d_fuel_none</th>\n",
              "      <th>d_water_other</th>\n",
              "      <th>d_water_river</th>\n",
              "      <th>...</th>\n",
              "      <th>d_lux_4</th>\n",
              "      <th>d_lux_5</th>\n",
              "      <th>training</th>\n",
              "      <th>percapitaconsumption</th>\n",
              "      <th>poor</th>\n",
              "      <th>h_hhsize</th>\n",
              "      <th>id_for_matlab</th>\n",
              "      <th>hhid</th>\n",
              "      <th>lncaphat_OLS</th>\n",
              "      <th>percapitahat_OLS</th>\n",
              "    </tr>\n",
              "  </thead>\n",
              "  <tbody>\n",
              "    <tr>\n",
              "      <th>0</th>\n",
              "      <td>5.351858</td>\n",
              "      <td>0</td>\n",
              "      <td>1</td>\n",
              "      <td>0</td>\n",
              "      <td>0</td>\n",
              "      <td>0</td>\n",
              "      <td>0</td>\n",
              "      <td>0</td>\n",
              "      <td>0</td>\n",
              "      <td>1</td>\n",
              "      <td>...</td>\n",
              "      <td>0</td>\n",
              "      <td>0</td>\n",
              "      <td>0</td>\n",
              "      <td>211.0000</td>\n",
              "      <td>0</td>\n",
              "      <td>1</td>\n",
              "      <td>1</td>\n",
              "      <td>233710511</td>\n",
              "      <td>5.246471</td>\n",
              "      <td>284.4243</td>\n",
              "    </tr>\n",
              "    <tr>\n",
              "      <th>1</th>\n",
              "      <td>5.768755</td>\n",
              "      <td>0</td>\n",
              "      <td>0</td>\n",
              "      <td>0</td>\n",
              "      <td>0</td>\n",
              "      <td>1</td>\n",
              "      <td>0</td>\n",
              "      <td>0</td>\n",
              "      <td>0</td>\n",
              "      <td>0</td>\n",
              "      <td>...</td>\n",
              "      <td>0</td>\n",
              "      <td>0</td>\n",
              "      <td>0</td>\n",
              "      <td>320.1389</td>\n",
              "      <td>0</td>\n",
              "      <td>3</td>\n",
              "      <td>2</td>\n",
              "      <td>295508011</td>\n",
              "      <td>6.129468</td>\n",
              "      <td>522.8840</td>\n",
              "    </tr>\n",
              "    <tr>\n",
              "      <th>2</th>\n",
              "      <td>5.968277</td>\n",
              "      <td>0</td>\n",
              "      <td>0</td>\n",
              "      <td>0</td>\n",
              "      <td>0</td>\n",
              "      <td>1</td>\n",
              "      <td>0</td>\n",
              "      <td>0</td>\n",
              "      <td>0</td>\n",
              "      <td>0</td>\n",
              "      <td>...</td>\n",
              "      <td>0</td>\n",
              "      <td>0</td>\n",
              "      <td>0</td>\n",
              "      <td>390.8318</td>\n",
              "      <td>0</td>\n",
              "      <td>4</td>\n",
              "      <td>3</td>\n",
              "      <td>257600211</td>\n",
              "      <td>6.665577</td>\n",
              "      <td>878.4961</td>\n",
              "    </tr>\n",
              "    <tr>\n",
              "      <th>3</th>\n",
              "      <td>5.654599</td>\n",
              "      <td>0</td>\n",
              "      <td>0</td>\n",
              "      <td>0</td>\n",
              "      <td>0</td>\n",
              "      <td>1</td>\n",
              "      <td>0</td>\n",
              "      <td>0</td>\n",
              "      <td>0</td>\n",
              "      <td>0</td>\n",
              "      <td>...</td>\n",
              "      <td>0</td>\n",
              "      <td>0</td>\n",
              "      <td>0</td>\n",
              "      <td>285.6018</td>\n",
              "      <td>1</td>\n",
              "      <td>9</td>\n",
              "      <td>4</td>\n",
              "      <td>198104311</td>\n",
              "      <td>6.088295</td>\n",
              "      <td>567.4705</td>\n",
              "    </tr>\n",
              "    <tr>\n",
              "      <th>4</th>\n",
              "      <td>4.771289</td>\n",
              "      <td>0</td>\n",
              "      <td>1</td>\n",
              "      <td>0</td>\n",
              "      <td>0</td>\n",
              "      <td>0</td>\n",
              "      <td>0</td>\n",
              "      <td>0</td>\n",
              "      <td>0</td>\n",
              "      <td>1</td>\n",
              "      <td>...</td>\n",
              "      <td>0</td>\n",
              "      <td>0</td>\n",
              "      <td>0</td>\n",
              "      <td>118.0713</td>\n",
              "      <td>1</td>\n",
              "      <td>8</td>\n",
              "      <td>5</td>\n",
              "      <td>24805311</td>\n",
              "      <td>5.008170</td>\n",
              "      <td>115.4929</td>\n",
              "    </tr>\n",
              "  </tbody>\n",
              "</table>\n",
              "<p>5 rows × 81 columns</p>\n",
              "</div>"
            ],
            "text/plain": [
              "   lnpercapitaconsumption  d_fuel_other  d_fuel_wood  d_fuel_coal  \\\n",
              "0                5.351858             0            1            0   \n",
              "1                5.768755             0            0            0   \n",
              "2                5.968277             0            0            0   \n",
              "3                5.654599             0            0            0   \n",
              "4                4.771289             0            1            0   \n",
              "\n",
              "   d_fuel_kerosene  d_fuel_gas  d_fuel_electric  d_fuel_none  d_water_other  \\\n",
              "0                0           0                0            0              0   \n",
              "1                0           1                0            0              0   \n",
              "2                0           1                0            0              0   \n",
              "3                0           1                0            0              0   \n",
              "4                0           0                0            0              0   \n",
              "\n",
              "   d_water_river  ...  d_lux_4  d_lux_5  training  percapitaconsumption  poor  \\\n",
              "0              1  ...        0        0         0              211.0000     0   \n",
              "1              0  ...        0        0         0              320.1389     0   \n",
              "2              0  ...        0        0         0              390.8318     0   \n",
              "3              0  ...        0        0         0              285.6018     1   \n",
              "4              1  ...        0        0         0              118.0713     1   \n",
              "\n",
              "   h_hhsize  id_for_matlab       hhid  lncaphat_OLS  percapitahat_OLS  \n",
              "0         1              1  233710511      5.246471          284.4243  \n",
              "1         3              2  295508011      6.129468          522.8840  \n",
              "2         4              3  257600211      6.665577          878.4961  \n",
              "3         9              4  198104311      6.088295          567.4705  \n",
              "4         8              5   24805311      5.008170          115.4929  \n",
              "\n",
              "[5 rows x 81 columns]"
            ]
          },
          "execution_count": 4,
          "metadata": {},
          "output_type": "execute_result"
        }
      ]
    },
    {
      "cell_type": "code",
      "metadata": {
        "colab": {
          "base_uri": "https://localhost:8080/"
        },
        "id": "-bKWpzQVGvl-",
        "outputId": "2c604606-3be3-49fe-acf1-8612fee8f162"
      },
      "source": [
        "train_set.info()"
      ],
      "execution_count": null,
      "outputs": [
        {
          "name": "stdout",
          "output_type": "stream",
          "text": [
            "<class 'pandas.core.frame.DataFrame'>\n",
            "Int64Index: 23153 entries, 23152 to 46304\n",
            "Data columns (total 81 columns):\n",
            " #   Column                   Non-Null Count  Dtype  \n",
            "---  ------                   --------------  -----  \n",
            " 0   lnpercapitaconsumption   23153 non-null  float64\n",
            " 1   d_fuel_other             23153 non-null  int64  \n",
            " 2   d_fuel_wood              23153 non-null  int64  \n",
            " 3   d_fuel_coal              23153 non-null  int64  \n",
            " 4   d_fuel_kerosene          23153 non-null  int64  \n",
            " 5   d_fuel_gas               23153 non-null  int64  \n",
            " 6   d_fuel_electric          23153 non-null  int64  \n",
            " 7   d_fuel_none              23153 non-null  int64  \n",
            " 8   d_water_other            23153 non-null  int64  \n",
            " 9   d_water_river            23153 non-null  int64  \n",
            " 10  d_water_well             23153 non-null  int64  \n",
            " 11  d_water_truck            23153 non-null  int64  \n",
            " 12  d_water_pylon            23153 non-null  int64  \n",
            " 13  d_water_outside          23153 non-null  int64  \n",
            " 14  d_water_inside           23153 non-null  int64  \n",
            " 15  d_drain_none             23153 non-null  int64  \n",
            " 16  d_drain_river            23153 non-null  int64  \n",
            " 17  d_drain_cesspool         23153 non-null  int64  \n",
            " 18  d_drain_septic           23153 non-null  int64  \n",
            " 19  d_drain_outside          23153 non-null  int64  \n",
            " 20  d_drain_inside           23153 non-null  int64  \n",
            " 21  d_wall_other             22675 non-null  float64\n",
            " 22  d_wall_woodmat           22675 non-null  float64\n",
            " 23  d_wall_stonemud          22675 non-null  float64\n",
            " 24  d_wall_quincha           22675 non-null  float64\n",
            " 25  d_wall_tapia             22675 non-null  float64\n",
            " 26  d_wall_adobe             22675 non-null  float64\n",
            " 27  d_wall_stonecement       22675 non-null  float64\n",
            " 28  d_wall_brickcement       22675 non-null  float64\n",
            " 29  d_roof_other             22675 non-null  float64\n",
            " 30  d_roof_straw             22675 non-null  float64\n",
            " 31  d_roof_mat               22675 non-null  float64\n",
            " 32  d_roof_platecane         22675 non-null  float64\n",
            " 33  d_roof_tile              22675 non-null  float64\n",
            " 34  d_roof_wood              22675 non-null  float64\n",
            " 35  d_roof_concrete          22675 non-null  float64\n",
            " 36  d_floor_other            22675 non-null  float64\n",
            " 37  d_floor_earth            22675 non-null  float64\n",
            " 38  d_floor_cement           22675 non-null  float64\n",
            " 39  d_floor_wood             22675 non-null  float64\n",
            " 40  d_floor_tile             22675 non-null  float64\n",
            " 41  d_floor_sheets           22675 non-null  float64\n",
            " 42  d_floor_parquet          22675 non-null  float64\n",
            " 43  d_electricity            23153 non-null  int64  \n",
            " 44  d_telephone              23153 non-null  int64  \n",
            " 45  d_h_educ_none            23152 non-null  float64\n",
            " 46  d_h_educ_pre             23152 non-null  float64\n",
            " 47  d_h_educ_prim            23152 non-null  float64\n",
            " 48  d_h_educ_sec             23152 non-null  float64\n",
            " 49  d_h_educ_higher_nouni    23152 non-null  float64\n",
            " 50  d_h_educ_higher_uni      23152 non-null  float64\n",
            " 51  d_h_educ_post            23152 non-null  float64\n",
            " 52  d_max_educ_none          23153 non-null  int64  \n",
            " 53  d_max_educ_prim          23153 non-null  int64  \n",
            " 54  d_max_educ_sec           23153 non-null  int64  \n",
            " 55  d_max_educ_higher_nouni  23153 non-null  int64  \n",
            " 56  d_max_educ_higher_uni    23153 non-null  int64  \n",
            " 57  d_insurance_0            23153 non-null  int64  \n",
            " 58  d_insurance_1            23153 non-null  int64  \n",
            " 59  d_insurance_2            23153 non-null  int64  \n",
            " 60  d_insurance_3            23153 non-null  int64  \n",
            " 61  d_insurance_4plus        23153 non-null  int64  \n",
            " 62  d_crowd_lessthan1        22675 non-null  float64\n",
            " 63  d_crowd_1to2             22675 non-null  float64\n",
            " 64  d_crowd_2to4             22675 non-null  float64\n",
            " 65  d_crowd_4to6             22675 non-null  float64\n",
            " 66  d_crowd_6plus            22675 non-null  float64\n",
            " 67  d_lux_0                  23153 non-null  int64  \n",
            " 68  d_lux_1                  23153 non-null  int64  \n",
            " 69  d_lux_2                  23153 non-null  int64  \n",
            " 70  d_lux_3                  23153 non-null  int64  \n",
            " 71  d_lux_4                  23153 non-null  int64  \n",
            " 72  d_lux_5                  23153 non-null  int64  \n",
            " 73  training                 23153 non-null  int64  \n",
            " 74  percapitaconsumption     23153 non-null  float64\n",
            " 75  poor                     23153 non-null  int64  \n",
            " 76  h_hhsize                 23153 non-null  int64  \n",
            " 77  id_for_matlab            23153 non-null  int64  \n",
            " 78  hhid                     23153 non-null  int64  \n",
            " 79  lncaphat_OLS             22674 non-null  float64\n",
            " 80  percapitahat_OLS         22674 non-null  float64\n",
            "dtypes: float64(38), int64(43)\n",
            "memory usage: 14.5 MB\n"
          ]
        }
      ]
    },
    {
      "cell_type": "code",
      "metadata": {
        "colab": {
          "base_uri": "https://localhost:8080/"
        },
        "id": "LbH3nVhNGvl_",
        "outputId": "c8a5e387-e2a8-4de6-a5cf-05b36fcd3944"
      },
      "source": [
        "test_set.info()"
      ],
      "execution_count": null,
      "outputs": [
        {
          "name": "stdout",
          "output_type": "stream",
          "text": [
            "<class 'pandas.core.frame.DataFrame'>\n",
            "Int64Index: 23152 entries, 0 to 23151\n",
            "Data columns (total 81 columns):\n",
            " #   Column                   Non-Null Count  Dtype  \n",
            "---  ------                   --------------  -----  \n",
            " 0   lnpercapitaconsumption   23152 non-null  float64\n",
            " 1   d_fuel_other             23152 non-null  int64  \n",
            " 2   d_fuel_wood              23152 non-null  int64  \n",
            " 3   d_fuel_coal              23152 non-null  int64  \n",
            " 4   d_fuel_kerosene          23152 non-null  int64  \n",
            " 5   d_fuel_gas               23152 non-null  int64  \n",
            " 6   d_fuel_electric          23152 non-null  int64  \n",
            " 7   d_fuel_none              23152 non-null  int64  \n",
            " 8   d_water_other            23152 non-null  int64  \n",
            " 9   d_water_river            23152 non-null  int64  \n",
            " 10  d_water_well             23152 non-null  int64  \n",
            " 11  d_water_truck            23152 non-null  int64  \n",
            " 12  d_water_pylon            23152 non-null  int64  \n",
            " 13  d_water_outside          23152 non-null  int64  \n",
            " 14  d_water_inside           23152 non-null  int64  \n",
            " 15  d_drain_none             23152 non-null  int64  \n",
            " 16  d_drain_river            23152 non-null  int64  \n",
            " 17  d_drain_cesspool         23152 non-null  int64  \n",
            " 18  d_drain_septic           23152 non-null  int64  \n",
            " 19  d_drain_outside          23152 non-null  int64  \n",
            " 20  d_drain_inside           23152 non-null  int64  \n",
            " 21  d_wall_other             22707 non-null  float64\n",
            " 22  d_wall_woodmat           22707 non-null  float64\n",
            " 23  d_wall_stonemud          22707 non-null  float64\n",
            " 24  d_wall_quincha           22707 non-null  float64\n",
            " 25  d_wall_tapia             22707 non-null  float64\n",
            " 26  d_wall_adobe             22707 non-null  float64\n",
            " 27  d_wall_stonecement       22707 non-null  float64\n",
            " 28  d_wall_brickcement       22707 non-null  float64\n",
            " 29  d_roof_other             22707 non-null  float64\n",
            " 30  d_roof_straw             22707 non-null  float64\n",
            " 31  d_roof_mat               22707 non-null  float64\n",
            " 32  d_roof_platecane         22707 non-null  float64\n",
            " 33  d_roof_tile              22707 non-null  float64\n",
            " 34  d_roof_wood              22707 non-null  float64\n",
            " 35  d_roof_concrete          22707 non-null  float64\n",
            " 36  d_floor_other            22707 non-null  float64\n",
            " 37  d_floor_earth            22707 non-null  float64\n",
            " 38  d_floor_cement           22707 non-null  float64\n",
            " 39  d_floor_wood             22707 non-null  float64\n",
            " 40  d_floor_tile             22707 non-null  float64\n",
            " 41  d_floor_sheets           22707 non-null  float64\n",
            " 42  d_floor_parquet          22707 non-null  float64\n",
            " 43  d_electricity            23152 non-null  int64  \n",
            " 44  d_telephone              23152 non-null  int64  \n",
            " 45  d_h_educ_none            23149 non-null  float64\n",
            " 46  d_h_educ_pre             23149 non-null  float64\n",
            " 47  d_h_educ_prim            23149 non-null  float64\n",
            " 48  d_h_educ_sec             23149 non-null  float64\n",
            " 49  d_h_educ_higher_nouni    23149 non-null  float64\n",
            " 50  d_h_educ_higher_uni      23149 non-null  float64\n",
            " 51  d_h_educ_post            23149 non-null  float64\n",
            " 52  d_max_educ_none          23152 non-null  int64  \n",
            " 53  d_max_educ_prim          23152 non-null  int64  \n",
            " 54  d_max_educ_sec           23152 non-null  int64  \n",
            " 55  d_max_educ_higher_nouni  23152 non-null  int64  \n",
            " 56  d_max_educ_higher_uni    23152 non-null  int64  \n",
            " 57  d_insurance_0            23152 non-null  int64  \n",
            " 58  d_insurance_1            23152 non-null  int64  \n",
            " 59  d_insurance_2            23152 non-null  int64  \n",
            " 60  d_insurance_3            23152 non-null  int64  \n",
            " 61  d_insurance_4plus        23152 non-null  int64  \n",
            " 62  d_crowd_lessthan1        22707 non-null  float64\n",
            " 63  d_crowd_1to2             22707 non-null  float64\n",
            " 64  d_crowd_2to4             22707 non-null  float64\n",
            " 65  d_crowd_4to6             22707 non-null  float64\n",
            " 66  d_crowd_6plus            22707 non-null  float64\n",
            " 67  d_lux_0                  23152 non-null  int64  \n",
            " 68  d_lux_1                  23152 non-null  int64  \n",
            " 69  d_lux_2                  23152 non-null  int64  \n",
            " 70  d_lux_3                  23152 non-null  int64  \n",
            " 71  d_lux_4                  23152 non-null  int64  \n",
            " 72  d_lux_5                  23152 non-null  int64  \n",
            " 73  training                 23152 non-null  int64  \n",
            " 74  percapitaconsumption     23152 non-null  float64\n",
            " 75  poor                     23152 non-null  int64  \n",
            " 76  h_hhsize                 23152 non-null  int64  \n",
            " 77  id_for_matlab            23152 non-null  int64  \n",
            " 78  hhid                     23152 non-null  int64  \n",
            " 79  lncaphat_OLS             22704 non-null  float64\n",
            " 80  percapitahat_OLS         22704 non-null  float64\n",
            "dtypes: float64(38), int64(43)\n",
            "memory usage: 14.5 MB\n"
          ]
        }
      ]
    },
    {
      "cell_type": "markdown",
      "metadata": {
        "id": "NTe73vmSGvl_"
      },
      "source": [
        "According to their information, I decide to delete all the rows which contain missing values, because I think if there are missing values in $X$(feature matrix), it will influence on the $W$ and if there are missing values in $y$, it will influence on the MSE"
      ]
    },
    {
      "cell_type": "code",
      "metadata": {
        "id": "EOTzIFTyH1AQ"
      },
      "source": [
        "# Creating subset without the dependent variable\n",
        "subset_train = train_set.columns[1:72]\n",
        "subset_test = test_set.columns[1:72]\n",
        "\n",
        "# Drop whole column if Nan in subset\n",
        "train_set = train_set.dropna(subset=subset_train, how='any')\n",
        "test_set = test_set.dropna(subset=subset_test, how='any')"
      ],
      "execution_count": null,
      "outputs": []
    },
    {
      "cell_type": "markdown",
      "metadata": {
        "id": "Y4lsn6b1Meb1"
      },
      "source": [
        "Check if each variable has the same number of columns after droping the Nan in the subset."
      ]
    },
    {
      "cell_type": "code",
      "metadata": {
        "colab": {
          "base_uri": "https://localhost:8080/"
        },
        "id": "OquDQ5KCIJ0M",
        "outputId": "24607a80-5fff-4523-9c3d-3bc0c69a8457"
      },
      "source": [
        "train_set.info()"
      ],
      "execution_count": null,
      "outputs": [
        {
          "name": "stdout",
          "output_type": "stream",
          "text": [
            "<class 'pandas.core.frame.DataFrame'>\n",
            "Int64Index: 22674 entries, 23152 to 46304\n",
            "Data columns (total 81 columns):\n",
            " #   Column                   Non-Null Count  Dtype  \n",
            "---  ------                   --------------  -----  \n",
            " 0   lnpercapitaconsumption   22674 non-null  float64\n",
            " 1   d_fuel_other             22674 non-null  int64  \n",
            " 2   d_fuel_wood              22674 non-null  int64  \n",
            " 3   d_fuel_coal              22674 non-null  int64  \n",
            " 4   d_fuel_kerosene          22674 non-null  int64  \n",
            " 5   d_fuel_gas               22674 non-null  int64  \n",
            " 6   d_fuel_electric          22674 non-null  int64  \n",
            " 7   d_fuel_none              22674 non-null  int64  \n",
            " 8   d_water_other            22674 non-null  int64  \n",
            " 9   d_water_river            22674 non-null  int64  \n",
            " 10  d_water_well             22674 non-null  int64  \n",
            " 11  d_water_truck            22674 non-null  int64  \n",
            " 12  d_water_pylon            22674 non-null  int64  \n",
            " 13  d_water_outside          22674 non-null  int64  \n",
            " 14  d_water_inside           22674 non-null  int64  \n",
            " 15  d_drain_none             22674 non-null  int64  \n",
            " 16  d_drain_river            22674 non-null  int64  \n",
            " 17  d_drain_cesspool         22674 non-null  int64  \n",
            " 18  d_drain_septic           22674 non-null  int64  \n",
            " 19  d_drain_outside          22674 non-null  int64  \n",
            " 20  d_drain_inside           22674 non-null  int64  \n",
            " 21  d_wall_other             22674 non-null  float64\n",
            " 22  d_wall_woodmat           22674 non-null  float64\n",
            " 23  d_wall_stonemud          22674 non-null  float64\n",
            " 24  d_wall_quincha           22674 non-null  float64\n",
            " 25  d_wall_tapia             22674 non-null  float64\n",
            " 26  d_wall_adobe             22674 non-null  float64\n",
            " 27  d_wall_stonecement       22674 non-null  float64\n",
            " 28  d_wall_brickcement       22674 non-null  float64\n",
            " 29  d_roof_other             22674 non-null  float64\n",
            " 30  d_roof_straw             22674 non-null  float64\n",
            " 31  d_roof_mat               22674 non-null  float64\n",
            " 32  d_roof_platecane         22674 non-null  float64\n",
            " 33  d_roof_tile              22674 non-null  float64\n",
            " 34  d_roof_wood              22674 non-null  float64\n",
            " 35  d_roof_concrete          22674 non-null  float64\n",
            " 36  d_floor_other            22674 non-null  float64\n",
            " 37  d_floor_earth            22674 non-null  float64\n",
            " 38  d_floor_cement           22674 non-null  float64\n",
            " 39  d_floor_wood             22674 non-null  float64\n",
            " 40  d_floor_tile             22674 non-null  float64\n",
            " 41  d_floor_sheets           22674 non-null  float64\n",
            " 42  d_floor_parquet          22674 non-null  float64\n",
            " 43  d_electricity            22674 non-null  int64  \n",
            " 44  d_telephone              22674 non-null  int64  \n",
            " 45  d_h_educ_none            22674 non-null  float64\n",
            " 46  d_h_educ_pre             22674 non-null  float64\n",
            " 47  d_h_educ_prim            22674 non-null  float64\n",
            " 48  d_h_educ_sec             22674 non-null  float64\n",
            " 49  d_h_educ_higher_nouni    22674 non-null  float64\n",
            " 50  d_h_educ_higher_uni      22674 non-null  float64\n",
            " 51  d_h_educ_post            22674 non-null  float64\n",
            " 52  d_max_educ_none          22674 non-null  int64  \n",
            " 53  d_max_educ_prim          22674 non-null  int64  \n",
            " 54  d_max_educ_sec           22674 non-null  int64  \n",
            " 55  d_max_educ_higher_nouni  22674 non-null  int64  \n",
            " 56  d_max_educ_higher_uni    22674 non-null  int64  \n",
            " 57  d_insurance_0            22674 non-null  int64  \n",
            " 58  d_insurance_1            22674 non-null  int64  \n",
            " 59  d_insurance_2            22674 non-null  int64  \n",
            " 60  d_insurance_3            22674 non-null  int64  \n",
            " 61  d_insurance_4plus        22674 non-null  int64  \n",
            " 62  d_crowd_lessthan1        22674 non-null  float64\n",
            " 63  d_crowd_1to2             22674 non-null  float64\n",
            " 64  d_crowd_2to4             22674 non-null  float64\n",
            " 65  d_crowd_4to6             22674 non-null  float64\n",
            " 66  d_crowd_6plus            22674 non-null  float64\n",
            " 67  d_lux_0                  22674 non-null  int64  \n",
            " 68  d_lux_1                  22674 non-null  int64  \n",
            " 69  d_lux_2                  22674 non-null  int64  \n",
            " 70  d_lux_3                  22674 non-null  int64  \n",
            " 71  d_lux_4                  22674 non-null  int64  \n",
            " 72  d_lux_5                  22674 non-null  int64  \n",
            " 73  training                 22674 non-null  int64  \n",
            " 74  percapitaconsumption     22674 non-null  float64\n",
            " 75  poor                     22674 non-null  int64  \n",
            " 76  h_hhsize                 22674 non-null  int64  \n",
            " 77  id_for_matlab            22674 non-null  int64  \n",
            " 78  hhid                     22674 non-null  int64  \n",
            " 79  lncaphat_OLS             22674 non-null  float64\n",
            " 80  percapitahat_OLS         22674 non-null  float64\n",
            "dtypes: float64(38), int64(43)\n",
            "memory usage: 14.2 MB\n"
          ]
        }
      ]
    },
    {
      "cell_type": "code",
      "metadata": {
        "colab": {
          "base_uri": "https://localhost:8080/"
        },
        "id": "wCQcUOHBMnPb",
        "outputId": "20cd80ff-eb57-4bb2-adce-549d195cb300"
      },
      "source": [
        "test_set.info()"
      ],
      "execution_count": null,
      "outputs": [
        {
          "name": "stdout",
          "output_type": "stream",
          "text": [
            "<class 'pandas.core.frame.DataFrame'>\n",
            "Int64Index: 22704 entries, 0 to 23151\n",
            "Data columns (total 81 columns):\n",
            " #   Column                   Non-Null Count  Dtype  \n",
            "---  ------                   --------------  -----  \n",
            " 0   lnpercapitaconsumption   22704 non-null  float64\n",
            " 1   d_fuel_other             22704 non-null  int64  \n",
            " 2   d_fuel_wood              22704 non-null  int64  \n",
            " 3   d_fuel_coal              22704 non-null  int64  \n",
            " 4   d_fuel_kerosene          22704 non-null  int64  \n",
            " 5   d_fuel_gas               22704 non-null  int64  \n",
            " 6   d_fuel_electric          22704 non-null  int64  \n",
            " 7   d_fuel_none              22704 non-null  int64  \n",
            " 8   d_water_other            22704 non-null  int64  \n",
            " 9   d_water_river            22704 non-null  int64  \n",
            " 10  d_water_well             22704 non-null  int64  \n",
            " 11  d_water_truck            22704 non-null  int64  \n",
            " 12  d_water_pylon            22704 non-null  int64  \n",
            " 13  d_water_outside          22704 non-null  int64  \n",
            " 14  d_water_inside           22704 non-null  int64  \n",
            " 15  d_drain_none             22704 non-null  int64  \n",
            " 16  d_drain_river            22704 non-null  int64  \n",
            " 17  d_drain_cesspool         22704 non-null  int64  \n",
            " 18  d_drain_septic           22704 non-null  int64  \n",
            " 19  d_drain_outside          22704 non-null  int64  \n",
            " 20  d_drain_inside           22704 non-null  int64  \n",
            " 21  d_wall_other             22704 non-null  float64\n",
            " 22  d_wall_woodmat           22704 non-null  float64\n",
            " 23  d_wall_stonemud          22704 non-null  float64\n",
            " 24  d_wall_quincha           22704 non-null  float64\n",
            " 25  d_wall_tapia             22704 non-null  float64\n",
            " 26  d_wall_adobe             22704 non-null  float64\n",
            " 27  d_wall_stonecement       22704 non-null  float64\n",
            " 28  d_wall_brickcement       22704 non-null  float64\n",
            " 29  d_roof_other             22704 non-null  float64\n",
            " 30  d_roof_straw             22704 non-null  float64\n",
            " 31  d_roof_mat               22704 non-null  float64\n",
            " 32  d_roof_platecane         22704 non-null  float64\n",
            " 33  d_roof_tile              22704 non-null  float64\n",
            " 34  d_roof_wood              22704 non-null  float64\n",
            " 35  d_roof_concrete          22704 non-null  float64\n",
            " 36  d_floor_other            22704 non-null  float64\n",
            " 37  d_floor_earth            22704 non-null  float64\n",
            " 38  d_floor_cement           22704 non-null  float64\n",
            " 39  d_floor_wood             22704 non-null  float64\n",
            " 40  d_floor_tile             22704 non-null  float64\n",
            " 41  d_floor_sheets           22704 non-null  float64\n",
            " 42  d_floor_parquet          22704 non-null  float64\n",
            " 43  d_electricity            22704 non-null  int64  \n",
            " 44  d_telephone              22704 non-null  int64  \n",
            " 45  d_h_educ_none            22704 non-null  float64\n",
            " 46  d_h_educ_pre             22704 non-null  float64\n",
            " 47  d_h_educ_prim            22704 non-null  float64\n",
            " 48  d_h_educ_sec             22704 non-null  float64\n",
            " 49  d_h_educ_higher_nouni    22704 non-null  float64\n",
            " 50  d_h_educ_higher_uni      22704 non-null  float64\n",
            " 51  d_h_educ_post            22704 non-null  float64\n",
            " 52  d_max_educ_none          22704 non-null  int64  \n",
            " 53  d_max_educ_prim          22704 non-null  int64  \n",
            " 54  d_max_educ_sec           22704 non-null  int64  \n",
            " 55  d_max_educ_higher_nouni  22704 non-null  int64  \n",
            " 56  d_max_educ_higher_uni    22704 non-null  int64  \n",
            " 57  d_insurance_0            22704 non-null  int64  \n",
            " 58  d_insurance_1            22704 non-null  int64  \n",
            " 59  d_insurance_2            22704 non-null  int64  \n",
            " 60  d_insurance_3            22704 non-null  int64  \n",
            " 61  d_insurance_4plus        22704 non-null  int64  \n",
            " 62  d_crowd_lessthan1        22704 non-null  float64\n",
            " 63  d_crowd_1to2             22704 non-null  float64\n",
            " 64  d_crowd_2to4             22704 non-null  float64\n",
            " 65  d_crowd_4to6             22704 non-null  float64\n",
            " 66  d_crowd_6plus            22704 non-null  float64\n",
            " 67  d_lux_0                  22704 non-null  int64  \n",
            " 68  d_lux_1                  22704 non-null  int64  \n",
            " 69  d_lux_2                  22704 non-null  int64  \n",
            " 70  d_lux_3                  22704 non-null  int64  \n",
            " 71  d_lux_4                  22704 non-null  int64  \n",
            " 72  d_lux_5                  22704 non-null  int64  \n",
            " 73  training                 22704 non-null  int64  \n",
            " 74  percapitaconsumption     22704 non-null  float64\n",
            " 75  poor                     22704 non-null  int64  \n",
            " 76  h_hhsize                 22704 non-null  int64  \n",
            " 77  id_for_matlab            22704 non-null  int64  \n",
            " 78  hhid                     22704 non-null  int64  \n",
            " 79  lncaphat_OLS             22704 non-null  float64\n",
            " 80  percapitahat_OLS         22704 non-null  float64\n",
            "dtypes: float64(38), int64(43)\n",
            "memory usage: 14.2 MB\n"
          ]
        }
      ]
    },
    {
      "cell_type": "markdown",
      "metadata": {
        "id": "v9pUN-teZg0b"
      },
      "source": [
        "Shape train features and test features according to Hanna & Olken (1 dependent variable, 72 independent variables)"
      ]
    },
    {
      "cell_type": "code",
      "metadata": {
        "id": "8VuKyOKdM480"
      },
      "source": [
        "X_train = train_set.iloc[:, 1:72]\n",
        "y_train = train_set.iloc[:, 0]\n",
        "\n",
        "X_test = test_set.iloc[:, 1:72]\n",
        "y_test = test_set.iloc[:, 79]\n",
        "\n",
        "X_train = X_train.values\n",
        "y_train = y_train.values\n",
        "\n",
        "X_test = X_test.values\n",
        "y_test = y_test.values"
      ],
      "execution_count": null,
      "outputs": []
    },
    {
      "cell_type": "markdown",
      "metadata": {
        "id": "jWNBcLbUGvl_"
      },
      "source": [
        "# **Lasso Approach**"
      ]
    },
    {
      "cell_type": "markdown",
      "metadata": {
        "id": "XStwv1jbGvl_"
      },
      "source": [
        "According to the objective function, the goal of lasso is\n",
        "$$\n",
        "\\min_{w} \\sum_{i=1}^N (x_i*w-y_i)^2+\\alpha * \\sum_{i=1}^D |w_i|\n",
        "$$\n",
        "Here N is the number of samples, and D is the number of features.\n",
        "\n",
        "As different $\\alpha$ cause different, I use the 'Cross-Validation' method to find the best $\\alpha$. Here $LassoCV()$ can help us find the best $\\alpha$  with this method"
      ]
    },
    {
      "cell_type": "code",
      "metadata": {
        "colab": {
          "base_uri": "https://localhost:8080/"
        },
        "id": "WDUFs1yQcpED",
        "outputId": "44bd34de-6e02-4d87-eaa8-3d1f2d35a575"
      },
      "source": [
        "#Build the model and caculate the MSE\n",
        "lasso=linear_model.LassoCV() #The parameter of the model is default, that is, alpha 5-fold cross-validation\n",
        "lasso.fit(X_train, y_train)\n",
        "y_prediction1 = lasso.predict(X_test)\n",
        "MSE1 = metrics.mean_squared_error(y_test, y_prediction1)\n",
        "print('The MSE is:')\n",
        "print(MSE1)"
      ],
      "execution_count": null,
      "outputs": [
        {
          "name": "stdout",
          "output_type": "stream",
          "text": [
            "The MSE is:\n",
            "0.00020476346601446633\n"
          ]
        }
      ]
    },
    {
      "cell_type": "code",
      "metadata": {
        "id": "oXOIClsqwud0"
      },
      "source": [
        "#from google.colab import drive\n",
        "#drive.mount('/content/drive')\n",
        "\n",
        "\n",
        "# Mount your Drive to the Colab VM.\n",
        "#drive.mount('/gdrive')\n",
        "#df.to_csv('lassoprediction.csv')\n",
        "#!cp data.csv \"content/drive/"
      ],
      "execution_count": null,
      "outputs": []
    },
    {
      "cell_type": "markdown",
      "metadata": {
        "id": "KO9ei9p5Gvl_"
      },
      "source": [
        "Here's the parameter of the model:"
      ]
    },
    {
      "cell_type": "code",
      "metadata": {
        "colab": {
          "base_uri": "https://localhost:8080/"
        },
        "id": "paHxHI4fGvl_",
        "outputId": "df4c01f2-f01f-488b-fbd0-f47c676abbe8"
      },
      "source": [
        "print('Selected coefficients:')\n",
        "print(pd.Series(lasso.coef_, index=train_set.iloc[:, 1:72].columns))"
      ],
      "execution_count": null,
      "outputs": [
        {
          "name": "stdout",
          "output_type": "stream",
          "text": [
            "Selected coefficients:\n",
            "d_fuel_other      -0.261402\n",
            "d_fuel_wood       -0.198090\n",
            "d_fuel_coal       -0.000000\n",
            "d_fuel_kerosene   -0.000000\n",
            "d_fuel_gas         0.051690\n",
            "                     ...   \n",
            "d_lux_0           -0.535013\n",
            "d_lux_1           -0.372393\n",
            "d_lux_2           -0.286941\n",
            "d_lux_3           -0.201528\n",
            "d_lux_4           -0.109908\n",
            "Length: 71, dtype: float64\n"
          ]
        }
      ]
    },
    {
      "cell_type": "code",
      "metadata": {
        "colab": {
          "base_uri": "https://localhost:8080/"
        },
        "id": "J5drMzDeEYm1",
        "outputId": "204030ff-97ea-461e-b182-0d75d7989d2d"
      },
      "source": [
        "print('The alpha is:')\n",
        "print(lasso.alpha_)"
      ],
      "execution_count": null,
      "outputs": [
        {
          "name": "stdout",
          "output_type": "stream",
          "text": [
            "The alpha is:\n",
            "0.00021528658199261529\n"
          ]
        }
      ]
    },
    {
      "cell_type": "markdown",
      "metadata": {
        "id": "IszkErCBGvl_"
      },
      "source": [
        "Here's the relationship between MSE and $\\alpha$ during the training. It shows that the $\\alpha$ is smaller, the outcome of the model is better. So I think it's better to use linear model to predict. "
      ]
    },
    {
      "cell_type": "code",
      "metadata": {
        "colab": {
          "base_uri": "https://localhost:8080/",
          "height": 619
        },
        "id": "GmD3oTAHGvl_",
        "outputId": "97e3d0bf-3e2f-4d08-893a-a4097ec2beb3"
      },
      "source": [
        "fig = plt.figure(figsize=(10,10))\n",
        "ax = fig.add_subplot(1, 1, 1)\n",
        "ax.set_xlabel('The alpha', fontsize=10)\n",
        "ax.set_ylabel('The MSE during cross-validation', fontsize=10)\n",
        "plt.plot(lasso.alphas_,lasso.mse_path_[:,0],label='1')\n",
        "plt.plot(lasso.alphas_,lasso.mse_path_[:,1],label='2')\n",
        "plt.plot(lasso.alphas_,lasso.mse_path_[:,2],label='3')\n",
        "plt.plot(lasso.alphas_,lasso.mse_path_[:,3],label='4')\n",
        "plt.plot(lasso.alphas_,lasso.mse_path_[:,4],label='5')\n",
        "ax.legend(loc='upper right', fontsize=10)\n",
        "ax.set_title('The relationship between MSE and alpha during the training', fontsize=15)\n",
        "plt.show()"
      ],
      "execution_count": null,
      "outputs": [
        {
          "data": {
            "image/png": "[encoded data removed]",
            "text/plain": [
              "<Figure size 720x720 with 1 Axes>"
            ]
          },
          "metadata": {},
          "output_type": "display_data"
        }
      ]
    },
    {
      "cell_type": "markdown",
      "metadata": {
        "id": "0MMN3vOnGvmA"
      },
      "source": [
        "I'm not sure whether the conclusion is right....."
      ]
    },
    {
      "cell_type": "markdown",
      "metadata": {
        "id": "vl-1i7tHGvmA"
      },
      "source": [
        "## Replicating Figure 5 "
      ]
    },
    {
      "cell_type": "markdown",
      "metadata": {
        "id": "cwZYMyTKZwuH"
      },
      "source": [
        "Recall prediction1 from Lasso"
      ]
    },
    {
      "cell_type": "code",
      "metadata": {
        "colab": {
          "base_uri": "https://localhost:8080/"
        },
        "id": "LSPC9cZbPuAG",
        "outputId": "4e32e3c4-7380-44ce-afba-fab71e4f4cc4"
      },
      "source": [
        "y_prediction1"
      ],
      "execution_count": null,
      "outputs": [
        {
          "data": {
            "text/plain": [
              "array([5.26109984, 6.13048498, 6.67161277, ..., 5.21662826, 6.92885132,\n",
              "       5.94699443])"
            ]
          },
          "execution_count": 16,
          "metadata": {},
          "output_type": "execute_result"
        }
      ]
    },
    {
      "cell_type": "markdown",
      "metadata": {
        "id": "-hVcoWfkZzCQ"
      },
      "source": [
        "Put prediction 1 to full test set (includes all variables, hence not shaped)"
      ]
    },
    {
      "cell_type": "code",
      "metadata": {
        "colab": {
          "base_uri": "https://localhost:8080/"
        },
        "id": "u8fobZamQlDW",
        "outputId": "5c3d7e80-8daf-4378-8f76-6ecc19a705ef"
      },
      "source": [
        "test_set_1 = test_set.copy()\n",
        "test_set_1['y_prediction1'] = y_prediction1\n",
        "\n",
        "test_set_1.info()"
      ],
      "execution_count": null,
      "outputs": [
        {
          "name": "stdout",
          "output_type": "stream",
          "text": [
            "<class 'pandas.core.frame.DataFrame'>\n",
            "Int64Index: 22704 entries, 0 to 23151\n",
            "Data columns (total 82 columns):\n",
            " #   Column                   Non-Null Count  Dtype  \n",
            "---  ------                   --------------  -----  \n",
            " 0   lnpercapitaconsumption   22704 non-null  float64\n",
            " 1   d_fuel_other             22704 non-null  int64  \n",
            " 2   d_fuel_wood              22704 non-null  int64  \n",
            " 3   d_fuel_coal              22704 non-null  int64  \n",
            " 4   d_fuel_kerosene          22704 non-null  int64  \n",
            " 5   d_fuel_gas               22704 non-null  int64  \n",
            " 6   d_fuel_electric          22704 non-null  int64  \n",
            " 7   d_fuel_none              22704 non-null  int64  \n",
            " 8   d_water_other            22704 non-null  int64  \n",
            " 9   d_water_river            22704 non-null  int64  \n",
            " 10  d_water_well             22704 non-null  int64  \n",
            " 11  d_water_truck            22704 non-null  int64  \n",
            " 12  d_water_pylon            22704 non-null  int64  \n",
            " 13  d_water_outside          22704 non-null  int64  \n",
            " 14  d_water_inside           22704 non-null  int64  \n",
            " 15  d_drain_none             22704 non-null  int64  \n",
            " 16  d_drain_river            22704 non-null  int64  \n",
            " 17  d_drain_cesspool         22704 non-null  int64  \n",
            " 18  d_drain_septic           22704 non-null  int64  \n",
            " 19  d_drain_outside          22704 non-null  int64  \n",
            " 20  d_drain_inside           22704 non-null  int64  \n",
            " 21  d_wall_other             22704 non-null  float64\n",
            " 22  d_wall_woodmat           22704 non-null  float64\n",
            " 23  d_wall_stonemud          22704 non-null  float64\n",
            " 24  d_wall_quincha           22704 non-null  float64\n",
            " 25  d_wall_tapia             22704 non-null  float64\n",
            " 26  d_wall_adobe             22704 non-null  float64\n",
            " 27  d_wall_stonecement       22704 non-null  float64\n",
            " 28  d_wall_brickcement       22704 non-null  float64\n",
            " 29  d_roof_other             22704 non-null  float64\n",
            " 30  d_roof_straw             22704 non-null  float64\n",
            " 31  d_roof_mat               22704 non-null  float64\n",
            " 32  d_roof_platecane         22704 non-null  float64\n",
            " 33  d_roof_tile              22704 non-null  float64\n",
            " 34  d_roof_wood              22704 non-null  float64\n",
            " 35  d_roof_concrete          22704 non-null  float64\n",
            " 36  d_floor_other            22704 non-null  float64\n",
            " 37  d_floor_earth            22704 non-null  float64\n",
            " 38  d_floor_cement           22704 non-null  float64\n",
            " 39  d_floor_wood             22704 non-null  float64\n",
            " 40  d_floor_tile             22704 non-null  float64\n",
            " 41  d_floor_sheets           22704 non-null  float64\n",
            " 42  d_floor_parquet          22704 non-null  float64\n",
            " 43  d_electricity            22704 non-null  int64  \n",
            " 44  d_telephone              22704 non-null  int64  \n",
            " 45  d_h_educ_none            22704 non-null  float64\n",
            " 46  d_h_educ_pre             22704 non-null  float64\n",
            " 47  d_h_educ_prim            22704 non-null  float64\n",
            " 48  d_h_educ_sec             22704 non-null  float64\n",
            " 49  d_h_educ_higher_nouni    22704 non-null  float64\n",
            " 50  d_h_educ_higher_uni      22704 non-null  float64\n",
            " 51  d_h_educ_post            22704 non-null  float64\n",
            " 52  d_max_educ_none          22704 non-null  int64  \n",
            " 53  d_max_educ_prim          22704 non-null  int64  \n",
            " 54  d_max_educ_sec           22704 non-null  int64  \n",
            " 55  d_max_educ_higher_nouni  22704 non-null  int64  \n",
            " 56  d_max_educ_higher_uni    22704 non-null  int64  \n",
            " 57  d_insurance_0            22704 non-null  int64  \n",
            " 58  d_insurance_1            22704 non-null  int64  \n",
            " 59  d_insurance_2            22704 non-null  int64  \n",
            " 60  d_insurance_3            22704 non-null  int64  \n",
            " 61  d_insurance_4plus        22704 non-null  int64  \n",
            " 62  d_crowd_lessthan1        22704 non-null  float64\n",
            " 63  d_crowd_1to2             22704 non-null  float64\n",
            " 64  d_crowd_2to4             22704 non-null  float64\n",
            " 65  d_crowd_4to6             22704 non-null  float64\n",
            " 66  d_crowd_6plus            22704 non-null  float64\n",
            " 67  d_lux_0                  22704 non-null  int64  \n",
            " 68  d_lux_1                  22704 non-null  int64  \n",
            " 69  d_lux_2                  22704 non-null  int64  \n",
            " 70  d_lux_3                  22704 non-null  int64  \n",
            " 71  d_lux_4                  22704 non-null  int64  \n",
            " 72  d_lux_5                  22704 non-null  int64  \n",
            " 73  training                 22704 non-null  int64  \n",
            " 74  percapitaconsumption     22704 non-null  float64\n",
            " 75  poor                     22704 non-null  int64  \n",
            " 76  h_hhsize                 22704 non-null  int64  \n",
            " 77  id_for_matlab            22704 non-null  int64  \n",
            " 78  hhid                     22704 non-null  int64  \n",
            " 79  lncaphat_OLS             22704 non-null  float64\n",
            " 80  percapitahat_OLS         22704 non-null  float64\n",
            " 81  y_prediction1            22704 non-null  float64\n",
            "dtypes: float64(39), int64(43)\n",
            "memory usage: 14.4 MB\n"
          ]
        }
      ]
    },
    {
      "cell_type": "code",
      "metadata": {
        "id": "srQVmmjGpAfH"
      },
      "source": [
        "#following Hanna and Olken, we need to first create 101 different cutoff values corresponding to %iles of lncaphat\n",
        "#c_0 = 0\n",
        "#for number in range(1,100,1):\n",
        "  # c_'number'=numpy.percentile(ages, number)"
      ],
      "execution_count": null,
      "outputs": []
    },
    {
      "cell_type": "markdown",
      "metadata": {
        "id": "pKsvOEX_PJWM"
      },
      "source": [
        "#Random Forest Approach"
      ]
    },
    {
      "cell_type": "code",
      "metadata": {
        "colab": {
          "base_uri": "https://localhost:8080/"
        },
        "id": "269OODyUBkHz",
        "outputId": "b452894b-d93a-44ce-8b87-5a7ac8f18a26"
      },
      "source": [
        "#Random Forest Prediction\n",
        "k=len(X_train[0])\n",
        "random_forest_consumption = RandomForestRegressor(n_estimators = k, oob_score=True, max_features=\"sqrt\" )\n",
        "\n",
        "random_forest_consumption.fit(X_train, y_train)\n",
        "y_prediction2 = random_forest_consumption.predict(X_test)\n",
        "\n",
        "MSE2 = metrics.mean_squared_error(y_test, y_prediction2)\n",
        "print('The MSE is:')\n",
        "print(MSE2)"
      ],
      "execution_count": null,
      "outputs": [
        {
          "name": "stdout",
          "output_type": "stream",
          "text": [
            "The MSE is:\n",
            "0.04183479728780302\n"
          ]
        }
      ]
    },
    {
      "cell_type": "markdown",
      "metadata": {
        "id": "6dl3mqcFZHwz"
      },
      "source": [
        "##Feature Importance Plot"
      ]
    },
    {
      "cell_type": "code",
      "metadata": {
        "colab": {
          "base_uri": "https://localhost:8080/",
          "height": 878
        },
        "id": "nkYcJjlwfAh3",
        "outputId": "a712ad8f-4375-43fb-904b-562b5357e868"
      },
      "source": [
        "Importance = pd.DataFrame({'Importance':random_forest_consumption.feature_importances_*100}, \n",
        "                          index = test_set.iloc[:, 1:72].columns)\n",
        "\n",
        "Importance.sort_values(by = 'Importance', \n",
        "                       axis = 0, \n",
        "                       ascending = True).plot(kind = 'barh', \n",
        "                                              figsize=(15,15),\n",
        "                                              color = 'r', )\n",
        "plt.xlabel('Variable Importance')\n",
        "plt.gca().legend_ = None"
      ],
      "execution_count": null,
      "outputs": [
        {
          "data": {
            "image/png": "[encoded data removed]",
            "text/plain": [
              "<Figure size 1080x1080 with 1 Axes>"
            ]
          },
          "metadata": {},
          "output_type": "display_data"
        }
      ]
    },
    {
      "cell_type": "markdown",
      "metadata": {
        "id": "OKLt93UAfPK-"
      },
      "source": [
        "Up next:\n",
        "\n",
        "*   Calculate Inclusion / Exclusion Error\n",
        "*   Replicate Figure 5\n",
        "\n",
        "\n"
      ]
    },
    {
      "cell_type": "markdown",
      "metadata": {
        "id": "J3tuMgklKwnG"
      },
      "source": [
        "Firstly add the predicted values into a new dataframe"
      ]
    },
    {
      "cell_type": "code",
      "metadata": {
        "id": "vFtV4jL-KwnG"
      },
      "source": [
        "test_set_1 = test_set.copy()\n",
        "test_set_1['y_prediction1'] = y_prediction1\n",
        "test_set_1['y_prediction_random forest'] = y_prediction2\n",
        "y_training_test_lasso=lasso.predict(X_train)\n",
        "y_training_test_random_forest=random_forest_consumption.predict(X_train)\n",
        "train_set_1 = train_set.copy()# I noticed that we may need the predicting value of the training data, so I add this\n",
        "train_set_1['y_prediction1'] = y_training_test_lasso\n",
        "train_set_1['y_prediction_random forest'] = y_training_test_random_forest\n",
        "outcome=test_set_1.append(train_set_1)"
      ],
      "execution_count": null,
      "outputs": []
    },
    {
      "cell_type": "code",
      "metadata": {
        "id": "SFJLVVTvKwnG",
        "outputId": "3181daeb-6b85-4ed9-c282-25e21b1c4a4c"
      },
      "source": [
        "outcome.info()"
      ],
      "execution_count": null,
      "outputs": [
        {
          "name": "stdout",
          "output_type": "stream",
          "text": [
            "<class 'pandas.core.frame.DataFrame'>\n",
            "Int64Index: 45378 entries, 0 to 46304\n",
            "Data columns (total 83 columns):\n",
            " #   Column                      Non-Null Count  Dtype  \n",
            "---  ------                      --------------  -----  \n",
            " 0   lnpercapitaconsumption      45378 non-null  float64\n",
            " 1   d_fuel_other                45378 non-null  int64  \n",
            " 2   d_fuel_wood                 45378 non-null  int64  \n",
            " 3   d_fuel_coal                 45378 non-null  int64  \n",
            " 4   d_fuel_kerosene             45378 non-null  int64  \n",
            " 5   d_fuel_gas                  45378 non-null  int64  \n",
            " 6   d_fuel_electric             45378 non-null  int64  \n",
            " 7   d_fuel_none                 45378 non-null  int64  \n",
            " 8   d_water_other               45378 non-null  int64  \n",
            " 9   d_water_river               45378 non-null  int64  \n",
            " 10  d_water_well                45378 non-null  int64  \n",
            " 11  d_water_truck               45378 non-null  int64  \n",
            " 12  d_water_pylon               45378 non-null  int64  \n",
            " 13  d_water_outside             45378 non-null  int64  \n",
            " 14  d_water_inside              45378 non-null  int64  \n",
            " 15  d_drain_none                45378 non-null  int64  \n",
            " 16  d_drain_river               45378 non-null  int64  \n",
            " 17  d_drain_cesspool            45378 non-null  int64  \n",
            " 18  d_drain_septic              45378 non-null  int64  \n",
            " 19  d_drain_outside             45378 non-null  int64  \n",
            " 20  d_drain_inside              45378 non-null  int64  \n",
            " 21  d_wall_other                45378 non-null  float64\n",
            " 22  d_wall_woodmat              45378 non-null  float64\n",
            " 23  d_wall_stonemud             45378 non-null  float64\n",
            " 24  d_wall_quincha              45378 non-null  float64\n",
            " 25  d_wall_tapia                45378 non-null  float64\n",
            " 26  d_wall_adobe                45378 non-null  float64\n",
            " 27  d_wall_stonecement          45378 non-null  float64\n",
            " 28  d_wall_brickcement          45378 non-null  float64\n",
            " 29  d_roof_other                45378 non-null  float64\n",
            " 30  d_roof_straw                45378 non-null  float64\n",
            " 31  d_roof_mat                  45378 non-null  float64\n",
            " 32  d_roof_platecane            45378 non-null  float64\n",
            " 33  d_roof_tile                 45378 non-null  float64\n",
            " 34  d_roof_wood                 45378 non-null  float64\n",
            " 35  d_roof_concrete             45378 non-null  float64\n",
            " 36  d_floor_other               45378 non-null  float64\n",
            " 37  d_floor_earth               45378 non-null  float64\n",
            " 38  d_floor_cement              45378 non-null  float64\n",
            " 39  d_floor_wood                45378 non-null  float64\n",
            " 40  d_floor_tile                45378 non-null  float64\n",
            " 41  d_floor_sheets              45378 non-null  float64\n",
            " 42  d_floor_parquet             45378 non-null  float64\n",
            " 43  d_electricity               45378 non-null  int64  \n",
            " 44  d_telephone                 45378 non-null  int64  \n",
            " 45  d_h_educ_none               45378 non-null  float64\n",
            " 46  d_h_educ_pre                45378 non-null  float64\n",
            " 47  d_h_educ_prim               45378 non-null  float64\n",
            " 48  d_h_educ_sec                45378 non-null  float64\n",
            " 49  d_h_educ_higher_nouni       45378 non-null  float64\n",
            " 50  d_h_educ_higher_uni         45378 non-null  float64\n",
            " 51  d_h_educ_post               45378 non-null  float64\n",
            " 52  d_max_educ_none             45378 non-null  int64  \n",
            " 53  d_max_educ_prim             45378 non-null  int64  \n",
            " 54  d_max_educ_sec              45378 non-null  int64  \n",
            " 55  d_max_educ_higher_nouni     45378 non-null  int64  \n",
            " 56  d_max_educ_higher_uni       45378 non-null  int64  \n",
            " 57  d_insurance_0               45378 non-null  int64  \n",
            " 58  d_insurance_1               45378 non-null  int64  \n",
            " 59  d_insurance_2               45378 non-null  int64  \n",
            " 60  d_insurance_3               45378 non-null  int64  \n",
            " 61  d_insurance_4plus           45378 non-null  int64  \n",
            " 62  d_crowd_lessthan1           45378 non-null  float64\n",
            " 63  d_crowd_1to2                45378 non-null  float64\n",
            " 64  d_crowd_2to4                45378 non-null  float64\n",
            " 65  d_crowd_4to6                45378 non-null  float64\n",
            " 66  d_crowd_6plus               45378 non-null  float64\n",
            " 67  d_lux_0                     45378 non-null  int64  \n",
            " 68  d_lux_1                     45378 non-null  int64  \n",
            " 69  d_lux_2                     45378 non-null  int64  \n",
            " 70  d_lux_3                     45378 non-null  int64  \n",
            " 71  d_lux_4                     45378 non-null  int64  \n",
            " 72  d_lux_5                     45378 non-null  int64  \n",
            " 73  training                    45378 non-null  int64  \n",
            " 74  percapitaconsumption        45378 non-null  float64\n",
            " 75  poor                        45378 non-null  int64  \n",
            " 76  h_hhsize                    45378 non-null  int64  \n",
            " 77  id_for_matlab               45378 non-null  int64  \n",
            " 78  hhid                        45378 non-null  int64  \n",
            " 79  lncaphat_OLS                45378 non-null  float64\n",
            " 80  percapitahat_OLS            45378 non-null  float64\n",
            " 81  y_prediction1               45378 non-null  float64\n",
            " 82  y_prediction_random forest  45378 non-null  float64\n",
            "dtypes: float64(40), int64(43)\n",
            "memory usage: 29.1 MB\n"
          ]
        }
      ]
    },
    {
      "cell_type": "markdown",
      "metadata": {
        "id": "wwcZfY-zKwnG"
      },
      "source": [
        "Extract the values and define parameters"
      ]
    },
    {
      "cell_type": "code",
      "metadata": {
        "id": "l9fVxMAvKwnG"
      },
      "source": [
        "lncaphat_lasso = outcome['y_prediction1'].values;\n",
        "lncaphat_random_forest = outcome['y_prediction_random forest'].values;\n",
        "poor = outcome['poor'].values;\n",
        "training = outcome['training'].values;\n",
        "h_hhsize = outcome['h_hhsize'].values;\n",
        "percapitaconsumption = outcome['percapitaconsumption'].values;"
      ],
      "execution_count": null,
      "outputs": []
    },
    {
      "cell_type": "code",
      "metadata": {
        "id": "WEQ1I2tTKwnG"
      },
      "source": [
        "samplesize=sum(training==1)\n",
        "CRRA_lasso_training = np.zeros(100)\n",
        "inc_error_lasso_training= np.zeros(100)\n",
        "CRRA_random_forest_training = np.zeros(100)\n",
        "inc_error_random_forest_training= np.zeros(100)\n",
        "bonus_perhh = 2.235/12\n",
        "national_num_households = 6750000\n",
        "program_budget_monthly = 880000000/12"
      ],
      "execution_count": null,
      "outputs": []
    },
    {
      "cell_type": "markdown",
      "metadata": {
        "id": "mWqFHHh2KwnH"
      },
      "source": [
        "Here's the translation of professor's code"
      ]
    },
    {
      "cell_type": "code",
      "metadata": {
        "id": "17uK4O_RKwnH"
      },
      "source": [
        "for i in range(100):\n",
        "    c_lasso = np.percentile(lncaphat_lasso[training ==1], (i+1))\n",
        "    incl_c_lasso = lncaphat_lasso < c_lasso\n",
        "    \n",
        "    c_random_forest = np.percentile(lncaphat_random_forest[training ==1], (i+1))\n",
        "    incl_c_random_forest = lncaphat_random_forest < c_random_forest\n",
        "    \n",
        "    incl_c_lasso = incl_c_lasso+0\n",
        "    incl_c_random_forest = incl_c_random_forest+0\n",
        "    \n",
        "    num_incl_lasso = incl_c_lasso.T*h_hhsize\n",
        "    num_incl_random_forest = incl_c_random_forest.T*h_hhsize\n",
        "    \n",
        "    incl_error_normal_lasso=np.zeros(incl_c_lasso.shape[0])\n",
        "    incl_error_normal_random_forest=np.zeros(incl_c_random_forest.shape[0])\n",
        "    \n",
        "    for j in range(incl_c_lasso.shape[0]):\n",
        "        if incl_c_lasso[j] ==1 and poor[j] ==0:\n",
        "            incl_error_normal_lasso[j]=1\n",
        "    for j in range(incl_c_random_forest.shape[0]):\n",
        "        if incl_c_random_forest[j] ==1 and poor[j] ==0:\n",
        "            incl_error_normal_random_forest[j]=1\n",
        "    \n",
        "    households_incl_lasso = sum(incl_c_lasso[training==1])\n",
        "    households_incl_random_forest = sum(incl_c_random_forest[training==1])\n",
        "    \n",
        "    pct_households_incl_lasso = households_incl_lasso / samplesize\n",
        "    pct_households_incl_random_forest = households_incl_random_forest / samplesize\n",
        "    \n",
        "    national_hh_incl_lasso =  national_num_households*pct_households_incl_lasso\n",
        "    national_hh_incl_random_forest =  national_num_households*pct_households_incl_random_forest\n",
        "    \n",
        "    per_hh_benefits_lasso = program_budget_monthly/national_hh_incl_lasso\n",
        "    per_hh_benefits_random_forest = program_budget_monthly/national_hh_incl_random_forest\n",
        "    \n",
        "    benefits_received_lasso = incl_c_lasso * per_hh_benefits_lasso + bonus_perhh*(i+1==100)\n",
        "    benefits_received_random_forest = incl_c_random_forest * per_hh_benefits_random_forest + bonus_perhh*(i+1==100)\n",
        "    \n",
        "    percapita_benefits_received_lasso  = np.divide(benefits_received_lasso,h_hhsize)\n",
        "    percapita_benefits_received_random_forest  = np.divide(benefits_received_random_forest,h_hhsize)\n",
        "    \n",
        "    income_lasso = percapitaconsumption + percapita_benefits_received_lasso\n",
        "    income_random_forest = percapitaconsumption + percapita_benefits_received_random_forest\n",
        "\n",
        "    CRRA_lasso_training[i] = sum((income_lasso[training==1])**(-2)/(-2))\n",
        "    CRRA_random_forest_training[i] = sum((income_random_forest[training==1])**(-2)/(-2))\n",
        "    \n",
        "    inc_error_lasso_training[i] = sum(incl_error_normal_lasso[training==1])/sum(1-poor[training==1])\n",
        "    inc_error_random_forest_training[i] = sum(incl_error_normal_random_forest[training==1])/sum(1-poor[training==1])"
      ],
      "execution_count": null,
      "outputs": []
    },
    {
      "cell_type": "code",
      "metadata": {
        "id": "jYYolY5wKwnH",
        "outputId": "f91c9a17-cf73-4803-b07a-10582ae5f5dd"
      },
      "source": [
        "fig1 = plt.figure()\n",
        "ax1 = fig1.add_subplot(1, 1, 1)\n",
        "ax1.set_xlabel('Inclusion Error', fontsize=12)\n",
        "ax1.set_ylabel('CRRA Utility', fontsize=12)\n",
        "ax1.set_title('Social Welfare versus Inclusion Error (Using the training set)', fontsize=15)\n",
        "plt.plot(inc_error_lasso_training,CRRA_lasso_training,label='Lasso')\n",
        "plt.plot(inc_error_random_forest_training,CRRA_lasso_training,label='Random Forest')\n",
        "plt.xlim((-0.1,1.1))\n",
        "plt.grid()\n",
        "ax1.legend(loc='lower right', fontsize=10)\n",
        "plt.savefig('Figure 5(Using the training set).jpg')"
      ],
      "execution_count": null,
      "outputs": [
        {
          "data": {
            "image/png": "[encoded data removed]",
            "text/plain": [
              "<Figure size 864x504 with 1 Axes>"
            ]
          },
          "metadata": {},
          "output_type": "display_data"
        }
      ]
    },
    {
      "cell_type": "markdown",
      "metadata": {
        "id": "eIulJlzWKwnH"
      },
      "source": [
        "I add a figure using the testing dataset(training ==0-->training ==1), I'm not sure whether it's useful"
      ]
    },
    {
      "cell_type": "code",
      "metadata": {
        "id": "HQcgUyxkKwnH"
      },
      "source": [
        "samplesize=sum(training==1)\n",
        "CRRA_lasso_testing = np.zeros(100)\n",
        "inc_error_lasso_testing= np.zeros(100)\n",
        "CRRA_random_forest_testing = np.zeros(100)\n",
        "inc_error_random_forest_testing= np.zeros(100)\n",
        "bonus_perhh = 2.235/12\n",
        "national_num_households = 6750000\n",
        "program_budget_monthly = 880000000/12"
      ],
      "execution_count": null,
      "outputs": []
    },
    {
      "cell_type": "code",
      "metadata": {
        "id": "ZiEnfKNRKwnH"
      },
      "source": [
        "for i in range(100):\n",
        "    c_lasso = np.percentile(lncaphat_lasso[training ==0], (i+1))\n",
        "    incl_c_lasso = lncaphat_lasso < c_lasso\n",
        "    \n",
        "    c_random_forest = np.percentile(lncaphat_random_forest[training ==0], (i+1))\n",
        "    incl_c_random_forest = lncaphat_random_forest < c_random_forest\n",
        "    \n",
        "    incl_c_lasso = incl_c_lasso+0\n",
        "    incl_c_random_forest = incl_c_random_forest+0\n",
        "    \n",
        "    num_incl_lasso = incl_c_lasso.T*h_hhsize\n",
        "    num_incl_random_forest = incl_c_random_forest.T*h_hhsize\n",
        "    \n",
        "    incl_error_normal_lasso=np.zeros(incl_c_lasso.shape[0])\n",
        "    incl_error_normal_random_forest=np.zeros(incl_c_random_forest.shape[0])\n",
        "    \n",
        "    for j in range(incl_c_lasso.shape[0]):\n",
        "        if incl_c_lasso[j] ==1 and poor[j] ==0:\n",
        "            incl_error_normal_lasso[j]=1\n",
        "    for j in range(incl_c_random_forest.shape[0]):\n",
        "        if incl_c_random_forest[j] ==1 and poor[j] ==0:\n",
        "            incl_error_normal_random_forest[j]=1\n",
        "    \n",
        "    households_incl_lasso = sum(incl_c_lasso[training==0])\n",
        "    households_incl_random_forest = sum(incl_c_random_forest[training==0])\n",
        "    \n",
        "    pct_households_incl_lasso = households_incl_lasso / samplesize\n",
        "    pct_households_incl_random_forest = households_incl_random_forest / samplesize\n",
        "    \n",
        "    national_hh_incl_lasso =  national_num_households*pct_households_incl_lasso\n",
        "    national_hh_incl_random_forest =  national_num_households*pct_households_incl_random_forest\n",
        "    \n",
        "    per_hh_benefits_lasso = program_budget_monthly/national_hh_incl_lasso\n",
        "    per_hh_benefits_random_forest = program_budget_monthly/national_hh_incl_random_forest\n",
        "    \n",
        "    benefits_received_lasso = incl_c_lasso * per_hh_benefits_lasso + bonus_perhh*(i+1==100)\n",
        "    benefits_received_random_forest = incl_c_random_forest * per_hh_benefits_random_forest + bonus_perhh*(i+1==100)\n",
        "    \n",
        "    percapita_benefits_received_lasso  = np.divide(benefits_received_lasso,h_hhsize)\n",
        "    percapita_benefits_received_random_forest  = np.divide(benefits_received_random_forest,h_hhsize)\n",
        "    \n",
        "    income_lasso = percapitaconsumption + percapita_benefits_received_lasso\n",
        "    income_random_forest = percapitaconsumption + percapita_benefits_received_random_forest\n",
        "\n",
        "    CRRA_lasso_testing[i] = sum((income_lasso[training==0])**(-2)/(-2))\n",
        "    CRRA_random_forest_testing[i] = sum((income_random_forest[training==0])**(-2)/(-2))\n",
        "    \n",
        "    inc_error_lasso_testing[i] = sum(incl_error_normal_lasso[training==0])/sum(1-poor[training==0])\n",
        "    inc_error_random_forest_testing[i] = sum(incl_error_normal_random_forest[training==0])/sum(1-poor[training==0])"
      ],
      "execution_count": null,
      "outputs": []
    },
    {
      "cell_type": "code",
      "metadata": {
        "id": "aGSHbOnGKwnI",
        "outputId": "e9ffd44d-b0f6-474a-fa77-c89e4827e85b"
      },
      "source": [
        "fig2 = plt.figure()\n",
        "ax2 = fig2.add_subplot(1, 1, 1)\n",
        "ax2.set_xlabel('Inclusion Error', fontsize=12)\n",
        "ax2.set_ylabel('CRRA Utility', fontsize=12)\n",
        "ax2.set_title('Social Welfare versus Inclusion Error (Using the testing set)', fontsize=15)\n",
        "plt.plot(inc_error_lasso_testing,CRRA_lasso_testing,label='Lasso')\n",
        "plt.plot(inc_error_random_forest_testing,CRRA_random_forest_testing,label='Random Forest')\n",
        "plt.xlim((-0.1,1.1))\n",
        "ax2.legend(loc='lower right', fontsize=10)\n",
        "plt.grid()\n",
        "plt.savefig('Figure 5(Using the testing set).jpg')"
      ],
      "execution_count": null,
      "outputs": [
        {
          "data": {
            "image/png": "[encoded data removed]",
            "text/plain": [
              "<Figure size 864x504 with 1 Axes>"
            ]
          },
          "metadata": {},
          "output_type": "display_data"
        }
      ]
    },
    {
      "cell_type": "code",
      "metadata": {
        "id": "7GZp_MasKwnI"
      },
      "source": [
        ""
      ],
      "execution_count": null,
      "outputs": []
    },
    {
      "cell_type": "code",
      "metadata": {
        "id": "S87H-DVMKwnI"
      },
      "source": [
        ""
      ],
      "execution_count": null,
      "outputs": []
    },
    {
      "cell_type": "code",
      "metadata": {
        "id": "d12WvMyTKwnI"
      },
      "source": [
        ""
      ],
      "execution_count": null,
      "outputs": []
    }
  ]
}